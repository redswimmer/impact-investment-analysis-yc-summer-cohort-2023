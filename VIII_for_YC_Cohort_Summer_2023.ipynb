{
  "cells": [
    {
      "cell_type": "markdown",
      "metadata": {
        "id": "view-in-github",
        "colab_type": "text"
      },
      "source": [
        "<a href=\"https://colab.research.google.com/github/redswimmer/impact-investment-analysis-yc-summer-cohort-2023/blob/main/VIII_for_YC_Cohort_Summer_2023.ipynb\" target=\"_parent\"><img src=\"https://colab.research.google.com/assets/colab-badge.svg\" alt=\"Open In Colab\"/></a>"
      ]
    },
    {
      "cell_type": "markdown",
      "metadata": {
        "id": "CazISR8X_HUG"
      },
      "source": [
        "# VIII for YC Cohort Summer 2023"
      ]
    },
    {
      "cell_type": "markdown",
      "source": [
        "I decided to experiment with the dataset provided in the article by Brandon Lopez, titled \"[Impact Investment Preliminary Analysis of Y Combinator Summer Cohort 2023](https://www.valleyinnovators.com/post/impact-investment-preliminary-analysis-of-y-combinator-summer-cohort-2023)\". In this study, Brandon scrutinizes 25 of the startups accepted into Y-Combinator, assigning them a Valley Innovators Impact Index (VIII). The VIII is a weighted formula used to evaluate the potential of a startup for impact investors, and it is calculated as VIII = societal impact x societal reach x time to impact. I wanted to explore how accurately I could reverse-engineer the formula by using a linear regression model trained on the features mentioned in the article. For a playful twist, I also added a few new elements (up votes and hashtags) from the startups' bio pages on the YC site."
      ],
      "metadata": {
        "id": "F1b_9hcRO-T-"
      }
    },
    {
      "cell_type": "markdown",
      "metadata": {
        "id": "pOyqYHTk_Q57"
      },
      "source": [
        "## Imports"
      ]
    },
    {
      "cell_type": "code",
      "execution_count": null,
      "metadata": {
        "id": "E8u1_bOukdAO"
      },
      "outputs": [],
      "source": [
        "import numpy as np\n",
        "import matplotlib.pyplot as plt\n",
        "import pandas as pd\n",
        "from scipy.stats import linregress"
      ]
    },
    {
      "cell_type": "markdown",
      "metadata": {
        "id": "vgC61-ah_WIz"
      },
      "source": [
        "## Data loading"
      ]
    },
    {
      "cell_type": "code",
      "execution_count": null,
      "metadata": {
        "id": "BdtpAejtk6K1",
        "colab": {
          "base_uri": "https://localhost:8080/"
        },
        "outputId": "92bc978f-b7e6-426c-9b2a-19cf5f1850d6"
      },
      "outputs": [
        {
          "output_type": "stream",
          "name": "stdout",
          "text": [
            "<class 'pandas.core.frame.DataFrame'>\n",
            "RangeIndex: 25 entries, 0 to 24\n",
            "Data columns (total 9 columns):\n",
            " #   Column                           Non-Null Count  Dtype \n",
            "---  ------                           --------------  ----- \n",
            " 0   Startup                          25 non-null     object\n",
            " 1   Value Prop                       25 non-null     object\n",
            " 2   Source                           25 non-null     object\n",
            " 3   Societal Impact                  25 non-null     int64 \n",
            " 4   Societal Reach                   25 non-null     int64 \n",
            " 5   Time to Impact                   25 non-null     int64 \n",
            " 6   Up Votes                         25 non-null     int64 \n",
            " 7   Tags                             25 non-null     object\n",
            " 8   Valley Innovators Impact Index*  25 non-null     int64 \n",
            "dtypes: int64(5), object(4)\n",
            "memory usage: 1.9+ KB\n"
          ]
        }
      ],
      "source": [
        "df = pd.read_csv('viii_data.csv')\n",
        "df.info()"
      ]
    },
    {
      "cell_type": "code",
      "execution_count": null,
      "metadata": {
        "id": "ev2dKe0oX8ht",
        "colab": {
          "base_uri": "https://localhost:8080/",
          "height": 486
        },
        "outputId": "4676b5e3-0ef8-4371-8d3d-0db6c6e3c7ad"
      },
      "outputs": [
        {
          "output_type": "execute_result",
          "data": {
            "text/plain": [
              "       Startup                                   Value Prop  \\\n",
              "0         Kite  Software marketing videos made easy-breezy    \n",
              "1         Khoj                     Open Source AI Assistant   \n",
              "2  Truemetrics        Improve logistics delivery efficiency   \n",
              "3    Synaptiq          AI-powered medical training platform   \n",
              "4   Telophase                   clone your AWS environments   \n",
              "\n",
              "                                              Source  Societal Impact  \\\n",
              "0  https://www.ycombinator.com/launches/JGE-kite-...                1   \n",
              "1  https://www.ycombinator.com/launches/JG4-khoj-...                3   \n",
              "2  https://www.ycombinator.com/launches/JFo-truem...                5   \n",
              "3  https://www.ycombinator.com/launches/JFk-synap...                9   \n",
              "4  https://www.ycombinator.com/launches/JFi-telop...                3   \n",
              "\n",
              "   Societal Reach  Time to Impact  Up Votes  \\\n",
              "0               3               7        22   \n",
              "1               7               3        34   \n",
              "2               7               5        15   \n",
              "3               9               5        22   \n",
              "4               5               3        26   \n",
              "\n",
              "                                                Tags  \\\n",
              "0              #ai#video#media#marketing#advertising   \n",
              "1  #ai#consumer#open_source#ai_assistant#generati...   \n",
              "2                                                #ai   \n",
              "3      #education#healthcare#artificial_intelligence   \n",
              "4                #b2b#infrastructure#developer_tools   \n",
              "\n",
              "   Valley Innovators Impact Index*  \n",
              "0                               21  \n",
              "1                               63  \n",
              "2                              175  \n",
              "3                              405  \n",
              "4                               45  "
            ],
            "text/html": [
              "\n",
              "  <div id=\"df-92516bb5-6425-42e5-944a-bb2938b53d6c\" class=\"colab-df-container\">\n",
              "    <div>\n",
              "<style scoped>\n",
              "    .dataframe tbody tr th:only-of-type {\n",
              "        vertical-align: middle;\n",
              "    }\n",
              "\n",
              "    .dataframe tbody tr th {\n",
              "        vertical-align: top;\n",
              "    }\n",
              "\n",
              "    .dataframe thead th {\n",
              "        text-align: right;\n",
              "    }\n",
              "</style>\n",
              "<table border=\"1\" class=\"dataframe\">\n",
              "  <thead>\n",
              "    <tr style=\"text-align: right;\">\n",
              "      <th></th>\n",
              "      <th>Startup</th>\n",
              "      <th>Value Prop</th>\n",
              "      <th>Source</th>\n",
              "      <th>Societal Impact</th>\n",
              "      <th>Societal Reach</th>\n",
              "      <th>Time to Impact</th>\n",
              "      <th>Up Votes</th>\n",
              "      <th>Tags</th>\n",
              "      <th>Valley Innovators Impact Index*</th>\n",
              "    </tr>\n",
              "  </thead>\n",
              "  <tbody>\n",
              "    <tr>\n",
              "      <th>0</th>\n",
              "      <td>Kite</td>\n",
              "      <td>Software marketing videos made easy-breezy</td>\n",
              "      <td>https://www.ycombinator.com/launches/JGE-kite-...</td>\n",
              "      <td>1</td>\n",
              "      <td>3</td>\n",
              "      <td>7</td>\n",
              "      <td>22</td>\n",
              "      <td>#ai#video#media#marketing#advertising</td>\n",
              "      <td>21</td>\n",
              "    </tr>\n",
              "    <tr>\n",
              "      <th>1</th>\n",
              "      <td>Khoj</td>\n",
              "      <td>Open Source AI Assistant</td>\n",
              "      <td>https://www.ycombinator.com/launches/JG4-khoj-...</td>\n",
              "      <td>3</td>\n",
              "      <td>7</td>\n",
              "      <td>3</td>\n",
              "      <td>34</td>\n",
              "      <td>#ai#consumer#open_source#ai_assistant#generati...</td>\n",
              "      <td>63</td>\n",
              "    </tr>\n",
              "    <tr>\n",
              "      <th>2</th>\n",
              "      <td>Truemetrics</td>\n",
              "      <td>Improve logistics delivery efficiency</td>\n",
              "      <td>https://www.ycombinator.com/launches/JFo-truem...</td>\n",
              "      <td>5</td>\n",
              "      <td>7</td>\n",
              "      <td>5</td>\n",
              "      <td>15</td>\n",
              "      <td>#ai</td>\n",
              "      <td>175</td>\n",
              "    </tr>\n",
              "    <tr>\n",
              "      <th>3</th>\n",
              "      <td>Synaptiq</td>\n",
              "      <td>AI-powered medical training platform</td>\n",
              "      <td>https://www.ycombinator.com/launches/JFk-synap...</td>\n",
              "      <td>9</td>\n",
              "      <td>9</td>\n",
              "      <td>5</td>\n",
              "      <td>22</td>\n",
              "      <td>#education#healthcare#artificial_intelligence</td>\n",
              "      <td>405</td>\n",
              "    </tr>\n",
              "    <tr>\n",
              "      <th>4</th>\n",
              "      <td>Telophase</td>\n",
              "      <td>clone your AWS environments</td>\n",
              "      <td>https://www.ycombinator.com/launches/JFi-telop...</td>\n",
              "      <td>3</td>\n",
              "      <td>5</td>\n",
              "      <td>3</td>\n",
              "      <td>26</td>\n",
              "      <td>#b2b#infrastructure#developer_tools</td>\n",
              "      <td>45</td>\n",
              "    </tr>\n",
              "  </tbody>\n",
              "</table>\n",
              "</div>\n",
              "    <div class=\"colab-df-buttons\">\n",
              "\n",
              "  <div class=\"colab-df-container\">\n",
              "    <button class=\"colab-df-convert\" onclick=\"convertToInteractive('df-92516bb5-6425-42e5-944a-bb2938b53d6c')\"\n",
              "            title=\"Convert this dataframe to an interactive table.\"\n",
              "            style=\"display:none;\">\n",
              "\n",
              "  <svg xmlns=\"http://www.w3.org/2000/svg\" height=\"24px\" viewBox=\"0 -960 960 960\">\n",
              "    <path d=\"M120-120v-720h720v720H120Zm60-500h600v-160H180v160Zm220 220h160v-160H400v160Zm0 220h160v-160H400v160ZM180-400h160v-160H180v160Zm440 0h160v-160H620v160ZM180-180h160v-160H180v160Zm440 0h160v-160H620v160Z\"/>\n",
              "  </svg>\n",
              "    </button>\n",
              "\n",
              "  <style>\n",
              "    .colab-df-container {\n",
              "      display:flex;\n",
              "      gap: 12px;\n",
              "    }\n",
              "\n",
              "    .colab-df-convert {\n",
              "      background-color: #E8F0FE;\n",
              "      border: none;\n",
              "      border-radius: 50%;\n",
              "      cursor: pointer;\n",
              "      display: none;\n",
              "      fill: #1967D2;\n",
              "      height: 32px;\n",
              "      padding: 0 0 0 0;\n",
              "      width: 32px;\n",
              "    }\n",
              "\n",
              "    .colab-df-convert:hover {\n",
              "      background-color: #E2EBFA;\n",
              "      box-shadow: 0px 1px 2px rgba(60, 64, 67, 0.3), 0px 1px 3px 1px rgba(60, 64, 67, 0.15);\n",
              "      fill: #174EA6;\n",
              "    }\n",
              "\n",
              "    .colab-df-buttons div {\n",
              "      margin-bottom: 4px;\n",
              "    }\n",
              "\n",
              "    [theme=dark] .colab-df-convert {\n",
              "      background-color: #3B4455;\n",
              "      fill: #D2E3FC;\n",
              "    }\n",
              "\n",
              "    [theme=dark] .colab-df-convert:hover {\n",
              "      background-color: #434B5C;\n",
              "      box-shadow: 0px 1px 3px 1px rgba(0, 0, 0, 0.15);\n",
              "      filter: drop-shadow(0px 1px 2px rgba(0, 0, 0, 0.3));\n",
              "      fill: #FFFFFF;\n",
              "    }\n",
              "  </style>\n",
              "\n",
              "    <script>\n",
              "      const buttonEl =\n",
              "        document.querySelector('#df-92516bb5-6425-42e5-944a-bb2938b53d6c button.colab-df-convert');\n",
              "      buttonEl.style.display =\n",
              "        google.colab.kernel.accessAllowed ? 'block' : 'none';\n",
              "\n",
              "      async function convertToInteractive(key) {\n",
              "        const element = document.querySelector('#df-92516bb5-6425-42e5-944a-bb2938b53d6c');\n",
              "        const dataTable =\n",
              "          await google.colab.kernel.invokeFunction('convertToInteractive',\n",
              "                                                    [key], {});\n",
              "        if (!dataTable) return;\n",
              "\n",
              "        const docLinkHtml = 'Like what you see? Visit the ' +\n",
              "          '<a target=\"_blank\" href=https://colab.research.google.com/notebooks/data_table.ipynb>data table notebook</a>'\n",
              "          + ' to learn more about interactive tables.';\n",
              "        element.innerHTML = '';\n",
              "        dataTable['output_type'] = 'display_data';\n",
              "        await google.colab.output.renderOutput(dataTable, element);\n",
              "        const docLink = document.createElement('div');\n",
              "        docLink.innerHTML = docLinkHtml;\n",
              "        element.appendChild(docLink);\n",
              "      }\n",
              "    </script>\n",
              "  </div>\n",
              "\n",
              "\n",
              "<div id=\"df-70232bbc-8022-45fd-9f16-400899f82003\">\n",
              "  <button class=\"colab-df-quickchart\" onclick=\"quickchart('df-70232bbc-8022-45fd-9f16-400899f82003')\"\n",
              "            title=\"Suggest charts.\"\n",
              "            style=\"display:none;\">\n",
              "\n",
              "<svg xmlns=\"http://www.w3.org/2000/svg\" height=\"24px\"viewBox=\"0 0 24 24\"\n",
              "     width=\"24px\">\n",
              "    <g>\n",
              "        <path d=\"M19 3H5c-1.1 0-2 .9-2 2v14c0 1.1.9 2 2 2h14c1.1 0 2-.9 2-2V5c0-1.1-.9-2-2-2zM9 17H7v-7h2v7zm4 0h-2V7h2v10zm4 0h-2v-4h2v4z\"/>\n",
              "    </g>\n",
              "</svg>\n",
              "  </button>\n",
              "\n",
              "<style>\n",
              "  .colab-df-quickchart {\n",
              "    background-color: #E8F0FE;\n",
              "    border: none;\n",
              "    border-radius: 50%;\n",
              "    cursor: pointer;\n",
              "    display: none;\n",
              "    fill: #1967D2;\n",
              "    height: 32px;\n",
              "    padding: 0 0 0 0;\n",
              "    width: 32px;\n",
              "  }\n",
              "\n",
              "  .colab-df-quickchart:hover {\n",
              "    background-color: #E2EBFA;\n",
              "    box-shadow: 0px 1px 2px rgba(60, 64, 67, 0.3), 0px 1px 3px 1px rgba(60, 64, 67, 0.15);\n",
              "    fill: #174EA6;\n",
              "  }\n",
              "\n",
              "  [theme=dark] .colab-df-quickchart {\n",
              "    background-color: #3B4455;\n",
              "    fill: #D2E3FC;\n",
              "  }\n",
              "\n",
              "  [theme=dark] .colab-df-quickchart:hover {\n",
              "    background-color: #434B5C;\n",
              "    box-shadow: 0px 1px 3px 1px rgba(0, 0, 0, 0.15);\n",
              "    filter: drop-shadow(0px 1px 2px rgba(0, 0, 0, 0.3));\n",
              "    fill: #FFFFFF;\n",
              "  }\n",
              "</style>\n",
              "\n",
              "  <script>\n",
              "    async function quickchart(key) {\n",
              "      const charts = await google.colab.kernel.invokeFunction(\n",
              "          'suggestCharts', [key], {});\n",
              "    }\n",
              "    (() => {\n",
              "      let quickchartButtonEl =\n",
              "        document.querySelector('#df-70232bbc-8022-45fd-9f16-400899f82003 button');\n",
              "      quickchartButtonEl.style.display =\n",
              "        google.colab.kernel.accessAllowed ? 'block' : 'none';\n",
              "    })();\n",
              "  </script>\n",
              "</div>\n",
              "    </div>\n",
              "  </div>\n"
            ]
          },
          "metadata": {},
          "execution_count": 174
        }
      ],
      "source": [
        "df.head()"
      ]
    },
    {
      "cell_type": "markdown",
      "metadata": {
        "id": "ERSZLHVTYGoF"
      },
      "source": [
        "### Data description\n",
        "\n",
        "This data is the first 25 startups from YCs website under [batch S2023](https://www.ycombinator.com/launches?batch=S2023). The columns that we are interested are:\n",
        "- **Startup**: Name of the startup\n",
        "- **Value Prop**: A text description of the value proposition\n",
        "- **Source**: Link to the startup on YC\n",
        "- **Societal Impact**: Societal impact means can the business change our lives significantly for the better, as a collective society.  Scale of 1-10 for each variable with 1 being lowest impact and 10 being highest impact.\n",
        "- **Societal Reach**: Societal reach means how may people on the planet can benefit from this core business idea. Scale of 1-10 for each variable with 1 being lowest impact and 10 being highest impact.\n",
        "- **Time to Impact**: Time to impact means how long can we estimate it to take for significant impact to be achieved. Scale of 1-10 for each variable with 1 being lowest impact and 10 being highest impact.\n",
        "- **Up Votes**: Startup upvotes on YC\n",
        "- **Valley Innovators Impact Index**: Valley Innovators Impact Index (VIII) is a weighted formula for evaluating the potential of a startup for impact investors.  VIII = societal impact x societal reach x time to impact"
      ]
    },
    {
      "cell_type": "markdown",
      "metadata": {
        "id": "x_YjWgk-ahmN"
      },
      "source": [
        "## Data cleaning"
      ]
    },
    {
      "cell_type": "markdown",
      "metadata": {
        "id": "JrdWYK7KbG3t"
      },
      "source": [
        "### Drop columns we're not interested in"
      ]
    },
    {
      "cell_type": "code",
      "execution_count": null,
      "metadata": {
        "id": "Evcrl1U_3Kfc",
        "colab": {
          "base_uri": "https://localhost:8080/",
          "height": 223
        },
        "outputId": "72dd9993-099a-4c08-d7ba-aeb31421c3db"
      },
      "outputs": [
        {
          "output_type": "execute_result",
          "data": {
            "text/plain": [
              "   Societal Impact  Societal Reach  Time to Impact  Up Votes  \\\n",
              "0                1               3               7        22   \n",
              "1                3               7               3        34   \n",
              "2                5               7               5        15   \n",
              "3                9               9               5        22   \n",
              "4                3               5               3        26   \n",
              "\n",
              "                                                Tags  \\\n",
              "0              #ai#video#media#marketing#advertising   \n",
              "1  #ai#consumer#open_source#ai_assistant#generati...   \n",
              "2                                                #ai   \n",
              "3      #education#healthcare#artificial_intelligence   \n",
              "4                #b2b#infrastructure#developer_tools   \n",
              "\n",
              "   Valley Innovators Impact Index*  \n",
              "0                               21  \n",
              "1                               63  \n",
              "2                              175  \n",
              "3                              405  \n",
              "4                               45  "
            ],
            "text/html": [
              "\n",
              "  <div id=\"df-ec634df8-357e-415e-8df3-6a8027842004\" class=\"colab-df-container\">\n",
              "    <div>\n",
              "<style scoped>\n",
              "    .dataframe tbody tr th:only-of-type {\n",
              "        vertical-align: middle;\n",
              "    }\n",
              "\n",
              "    .dataframe tbody tr th {\n",
              "        vertical-align: top;\n",
              "    }\n",
              "\n",
              "    .dataframe thead th {\n",
              "        text-align: right;\n",
              "    }\n",
              "</style>\n",
              "<table border=\"1\" class=\"dataframe\">\n",
              "  <thead>\n",
              "    <tr style=\"text-align: right;\">\n",
              "      <th></th>\n",
              "      <th>Societal Impact</th>\n",
              "      <th>Societal Reach</th>\n",
              "      <th>Time to Impact</th>\n",
              "      <th>Up Votes</th>\n",
              "      <th>Tags</th>\n",
              "      <th>Valley Innovators Impact Index*</th>\n",
              "    </tr>\n",
              "  </thead>\n",
              "  <tbody>\n",
              "    <tr>\n",
              "      <th>0</th>\n",
              "      <td>1</td>\n",
              "      <td>3</td>\n",
              "      <td>7</td>\n",
              "      <td>22</td>\n",
              "      <td>#ai#video#media#marketing#advertising</td>\n",
              "      <td>21</td>\n",
              "    </tr>\n",
              "    <tr>\n",
              "      <th>1</th>\n",
              "      <td>3</td>\n",
              "      <td>7</td>\n",
              "      <td>3</td>\n",
              "      <td>34</td>\n",
              "      <td>#ai#consumer#open_source#ai_assistant#generati...</td>\n",
              "      <td>63</td>\n",
              "    </tr>\n",
              "    <tr>\n",
              "      <th>2</th>\n",
              "      <td>5</td>\n",
              "      <td>7</td>\n",
              "      <td>5</td>\n",
              "      <td>15</td>\n",
              "      <td>#ai</td>\n",
              "      <td>175</td>\n",
              "    </tr>\n",
              "    <tr>\n",
              "      <th>3</th>\n",
              "      <td>9</td>\n",
              "      <td>9</td>\n",
              "      <td>5</td>\n",
              "      <td>22</td>\n",
              "      <td>#education#healthcare#artificial_intelligence</td>\n",
              "      <td>405</td>\n",
              "    </tr>\n",
              "    <tr>\n",
              "      <th>4</th>\n",
              "      <td>3</td>\n",
              "      <td>5</td>\n",
              "      <td>3</td>\n",
              "      <td>26</td>\n",
              "      <td>#b2b#infrastructure#developer_tools</td>\n",
              "      <td>45</td>\n",
              "    </tr>\n",
              "  </tbody>\n",
              "</table>\n",
              "</div>\n",
              "    <div class=\"colab-df-buttons\">\n",
              "\n",
              "  <div class=\"colab-df-container\">\n",
              "    <button class=\"colab-df-convert\" onclick=\"convertToInteractive('df-ec634df8-357e-415e-8df3-6a8027842004')\"\n",
              "            title=\"Convert this dataframe to an interactive table.\"\n",
              "            style=\"display:none;\">\n",
              "\n",
              "  <svg xmlns=\"http://www.w3.org/2000/svg\" height=\"24px\" viewBox=\"0 -960 960 960\">\n",
              "    <path d=\"M120-120v-720h720v720H120Zm60-500h600v-160H180v160Zm220 220h160v-160H400v160Zm0 220h160v-160H400v160ZM180-400h160v-160H180v160Zm440 0h160v-160H620v160ZM180-180h160v-160H180v160Zm440 0h160v-160H620v160Z\"/>\n",
              "  </svg>\n",
              "    </button>\n",
              "\n",
              "  <style>\n",
              "    .colab-df-container {\n",
              "      display:flex;\n",
              "      gap: 12px;\n",
              "    }\n",
              "\n",
              "    .colab-df-convert {\n",
              "      background-color: #E8F0FE;\n",
              "      border: none;\n",
              "      border-radius: 50%;\n",
              "      cursor: pointer;\n",
              "      display: none;\n",
              "      fill: #1967D2;\n",
              "      height: 32px;\n",
              "      padding: 0 0 0 0;\n",
              "      width: 32px;\n",
              "    }\n",
              "\n",
              "    .colab-df-convert:hover {\n",
              "      background-color: #E2EBFA;\n",
              "      box-shadow: 0px 1px 2px rgba(60, 64, 67, 0.3), 0px 1px 3px 1px rgba(60, 64, 67, 0.15);\n",
              "      fill: #174EA6;\n",
              "    }\n",
              "\n",
              "    .colab-df-buttons div {\n",
              "      margin-bottom: 4px;\n",
              "    }\n",
              "\n",
              "    [theme=dark] .colab-df-convert {\n",
              "      background-color: #3B4455;\n",
              "      fill: #D2E3FC;\n",
              "    }\n",
              "\n",
              "    [theme=dark] .colab-df-convert:hover {\n",
              "      background-color: #434B5C;\n",
              "      box-shadow: 0px 1px 3px 1px rgba(0, 0, 0, 0.15);\n",
              "      filter: drop-shadow(0px 1px 2px rgba(0, 0, 0, 0.3));\n",
              "      fill: #FFFFFF;\n",
              "    }\n",
              "  </style>\n",
              "\n",
              "    <script>\n",
              "      const buttonEl =\n",
              "        document.querySelector('#df-ec634df8-357e-415e-8df3-6a8027842004 button.colab-df-convert');\n",
              "      buttonEl.style.display =\n",
              "        google.colab.kernel.accessAllowed ? 'block' : 'none';\n",
              "\n",
              "      async function convertToInteractive(key) {\n",
              "        const element = document.querySelector('#df-ec634df8-357e-415e-8df3-6a8027842004');\n",
              "        const dataTable =\n",
              "          await google.colab.kernel.invokeFunction('convertToInteractive',\n",
              "                                                    [key], {});\n",
              "        if (!dataTable) return;\n",
              "\n",
              "        const docLinkHtml = 'Like what you see? Visit the ' +\n",
              "          '<a target=\"_blank\" href=https://colab.research.google.com/notebooks/data_table.ipynb>data table notebook</a>'\n",
              "          + ' to learn more about interactive tables.';\n",
              "        element.innerHTML = '';\n",
              "        dataTable['output_type'] = 'display_data';\n",
              "        await google.colab.output.renderOutput(dataTable, element);\n",
              "        const docLink = document.createElement('div');\n",
              "        docLink.innerHTML = docLinkHtml;\n",
              "        element.appendChild(docLink);\n",
              "      }\n",
              "    </script>\n",
              "  </div>\n",
              "\n",
              "\n",
              "<div id=\"df-5281b7b1-9374-463b-9f02-6ea6526d8428\">\n",
              "  <button class=\"colab-df-quickchart\" onclick=\"quickchart('df-5281b7b1-9374-463b-9f02-6ea6526d8428')\"\n",
              "            title=\"Suggest charts.\"\n",
              "            style=\"display:none;\">\n",
              "\n",
              "<svg xmlns=\"http://www.w3.org/2000/svg\" height=\"24px\"viewBox=\"0 0 24 24\"\n",
              "     width=\"24px\">\n",
              "    <g>\n",
              "        <path d=\"M19 3H5c-1.1 0-2 .9-2 2v14c0 1.1.9 2 2 2h14c1.1 0 2-.9 2-2V5c0-1.1-.9-2-2-2zM9 17H7v-7h2v7zm4 0h-2V7h2v10zm4 0h-2v-4h2v4z\"/>\n",
              "    </g>\n",
              "</svg>\n",
              "  </button>\n",
              "\n",
              "<style>\n",
              "  .colab-df-quickchart {\n",
              "    background-color: #E8F0FE;\n",
              "    border: none;\n",
              "    border-radius: 50%;\n",
              "    cursor: pointer;\n",
              "    display: none;\n",
              "    fill: #1967D2;\n",
              "    height: 32px;\n",
              "    padding: 0 0 0 0;\n",
              "    width: 32px;\n",
              "  }\n",
              "\n",
              "  .colab-df-quickchart:hover {\n",
              "    background-color: #E2EBFA;\n",
              "    box-shadow: 0px 1px 2px rgba(60, 64, 67, 0.3), 0px 1px 3px 1px rgba(60, 64, 67, 0.15);\n",
              "    fill: #174EA6;\n",
              "  }\n",
              "\n",
              "  [theme=dark] .colab-df-quickchart {\n",
              "    background-color: #3B4455;\n",
              "    fill: #D2E3FC;\n",
              "  }\n",
              "\n",
              "  [theme=dark] .colab-df-quickchart:hover {\n",
              "    background-color: #434B5C;\n",
              "    box-shadow: 0px 1px 3px 1px rgba(0, 0, 0, 0.15);\n",
              "    filter: drop-shadow(0px 1px 2px rgba(0, 0, 0, 0.3));\n",
              "    fill: #FFFFFF;\n",
              "  }\n",
              "</style>\n",
              "\n",
              "  <script>\n",
              "    async function quickchart(key) {\n",
              "      const charts = await google.colab.kernel.invokeFunction(\n",
              "          'suggestCharts', [key], {});\n",
              "    }\n",
              "    (() => {\n",
              "      let quickchartButtonEl =\n",
              "        document.querySelector('#df-5281b7b1-9374-463b-9f02-6ea6526d8428 button');\n",
              "      quickchartButtonEl.style.display =\n",
              "        google.colab.kernel.accessAllowed ? 'block' : 'none';\n",
              "    })();\n",
              "  </script>\n",
              "</div>\n",
              "    </div>\n",
              "  </div>\n"
            ]
          },
          "metadata": {},
          "execution_count": 175
        }
      ],
      "source": [
        "df = df.drop(df.iloc[:, :3], axis=1)\n",
        "df.head()"
      ]
    },
    {
      "cell_type": "markdown",
      "metadata": {
        "id": "VCn3bSg5cWg6"
      },
      "source": [
        "### Rename \"Valley Innovators Impact Index*\" to \"viii\""
      ]
    },
    {
      "cell_type": "code",
      "execution_count": null,
      "metadata": {
        "id": "KAzFCPK_crty",
        "colab": {
          "base_uri": "https://localhost:8080/"
        },
        "outputId": "5d25cfa6-fd82-4a96-9459-696f2fa0605c"
      },
      "outputs": [
        {
          "output_type": "execute_result",
          "data": {
            "text/plain": [
              "Index(['Societal Impact', 'Societal Reach', 'Time to Impact', 'Up Votes',\n",
              "       'Tags', 'viii'],\n",
              "      dtype='object')"
            ]
          },
          "metadata": {},
          "execution_count": 176
        }
      ],
      "source": [
        "df = df.rename(columns={'Valley Innovators Impact Index*': 'viii'})\n",
        "df.columns"
      ]
    },
    {
      "cell_type": "markdown",
      "metadata": {
        "id": "ZvkD4rEvbkkg"
      },
      "source": [
        "### Rename the columns to be all lowercase, replace spaces with underscores (\"_\") and make sure there are no spaces at the start or finish of a column name."
      ]
    },
    {
      "cell_type": "code",
      "execution_count": null,
      "metadata": {
        "id": "obm1O_dM4Vej",
        "colab": {
          "base_uri": "https://localhost:8080/"
        },
        "outputId": "590291fe-6d63-4084-f3df-869dad5a90df"
      },
      "outputs": [
        {
          "output_type": "execute_result",
          "data": {
            "text/plain": [
              "Index(['societal_impact', 'societal_reach', 'time_to_impact', 'up_votes',\n",
              "       'tags', 'viii'],\n",
              "      dtype='object')"
            ]
          },
          "metadata": {},
          "execution_count": 177
        }
      ],
      "source": [
        "df.columns = [x.lower().strip().replace(' ', '_') for x in df.columns]\n",
        "df.columns"
      ]
    },
    {
      "cell_type": "markdown",
      "metadata": {
        "id": "emq4dMrUd8DZ"
      },
      "source": [
        "### Change floats to ints"
      ]
    },
    {
      "cell_type": "code",
      "execution_count": null,
      "metadata": {
        "id": "OuXjbFTFgBSW",
        "colab": {
          "base_uri": "https://localhost:8080/"
        },
        "outputId": "b3621d43-d7af-4f8c-d7a8-d317d1693928"
      },
      "outputs": [
        {
          "output_type": "stream",
          "name": "stdout",
          "text": [
            "<class 'pandas.core.frame.DataFrame'>\n",
            "RangeIndex: 25 entries, 0 to 24\n",
            "Data columns (total 6 columns):\n",
            " #   Column           Non-Null Count  Dtype \n",
            "---  ------           --------------  ----- \n",
            " 0   societal_impact  25 non-null     int64 \n",
            " 1   societal_reach   25 non-null     int64 \n",
            " 2   time_to_impact   25 non-null     int64 \n",
            " 3   up_votes         25 non-null     int64 \n",
            " 4   tags             25 non-null     object\n",
            " 5   viii             25 non-null     int64 \n",
            "dtypes: int64(5), object(1)\n",
            "memory usage: 1.3+ KB\n"
          ]
        }
      ],
      "source": [
        "df.info()"
      ]
    },
    {
      "cell_type": "code",
      "execution_count": null,
      "metadata": {
        "id": "SoOL-iGneDdV"
      },
      "outputs": [],
      "source": [
        "for col in df.columns:\n",
        "  if (df[col].dtype == 'float64'):\n",
        "    print(f'{col}')\n",
        "    df[col] = df[col].astype('int')"
      ]
    },
    {
      "cell_type": "markdown",
      "metadata": {
        "id": "tG4wuru5hN0Q"
      },
      "source": [
        "### Sanity check"
      ]
    },
    {
      "cell_type": "code",
      "execution_count": null,
      "metadata": {
        "id": "wFNRBL7khO0w",
        "colab": {
          "base_uri": "https://localhost:8080/"
        },
        "outputId": "9087a188-b549-46d0-fe5b-6c318182898b"
      },
      "outputs": [
        {
          "output_type": "stream",
          "name": "stdout",
          "text": [
            "<class 'pandas.core.frame.DataFrame'>\n",
            "RangeIndex: 25 entries, 0 to 24\n",
            "Data columns (total 6 columns):\n",
            " #   Column           Non-Null Count  Dtype \n",
            "---  ------           --------------  ----- \n",
            " 0   societal_impact  25 non-null     int64 \n",
            " 1   societal_reach   25 non-null     int64 \n",
            " 2   time_to_impact   25 non-null     int64 \n",
            " 3   up_votes         25 non-null     int64 \n",
            " 4   tags             25 non-null     object\n",
            " 5   viii             25 non-null     int64 \n",
            "dtypes: int64(5), object(1)\n",
            "memory usage: 1.3+ KB\n"
          ]
        }
      ],
      "source": [
        "df.info()"
      ]
    },
    {
      "cell_type": "markdown",
      "metadata": {
        "id": "NnOOfkSXi4xw"
      },
      "source": [
        "### Check for missing values"
      ]
    },
    {
      "cell_type": "code",
      "execution_count": null,
      "metadata": {
        "id": "-t6c4tH9i6kh"
      },
      "outputs": [],
      "source": [
        "def check_missing_values(df):\n",
        "  for col in df.columns:\n",
        "    missing_vals = df[col].isna().sum()\n",
        "    missing_pct = 100 * missing_vals / df.shape[0]\n",
        "    print(f'{col}: {missing_vals} ({missing_pct:.2f}%) missing values')"
      ]
    },
    {
      "cell_type": "code",
      "execution_count": null,
      "metadata": {
        "id": "aDQFL_t3i8E3",
        "colab": {
          "base_uri": "https://localhost:8080/"
        },
        "outputId": "3466eceb-1ac8-42fc-897c-2a4386cff065"
      },
      "outputs": [
        {
          "output_type": "stream",
          "name": "stdout",
          "text": [
            "societal_impact: 0 (0.00%) missing values\n",
            "societal_reach: 0 (0.00%) missing values\n",
            "time_to_impact: 0 (0.00%) missing values\n",
            "up_votes: 0 (0.00%) missing values\n",
            "tags: 0 (0.00%) missing values\n",
            "viii: 0 (0.00%) missing values\n"
          ]
        }
      ],
      "source": [
        "check_missing_values(df)"
      ]
    },
    {
      "cell_type": "markdown",
      "metadata": {
        "id": "VadrvE7s_lS9"
      },
      "source": [
        "## Encoding categorical data"
      ]
    },
    {
      "cell_type": "markdown",
      "metadata": {
        "id": "qa8uYnCzkRwI"
      },
      "source": [
        "### Split hashtags string into categorical features and remove tags column"
      ]
    },
    {
      "cell_type": "code",
      "execution_count": null,
      "metadata": {
        "id": "Gx7bHK3259Ct",
        "colab": {
          "base_uri": "https://localhost:8080/"
        },
        "outputId": "b5d297a5-308e-4cb1-d41a-e821d04f182d"
      },
      "outputs": [
        {
          "output_type": "execute_result",
          "data": {
            "text/plain": [
              "Index(['societal_impact', 'societal_reach', 'time_to_impact', 'up_votes',\n",
              "       'viii', 'tag_advertising', 'tag_agriculture', 'tag_ai',\n",
              "       'tag_ai_assistant', 'tag_aiops', 'tag_analytics',\n",
              "       'tag_artificial_intelligence', 'tag_automation', 'tag_b2b',\n",
              "       'tag_big_data', 'tag_biotech', 'tag_chatbot', 'tag_climate',\n",
              "       'tag_compliance', 'tag_computer_vision', 'tag_consumer',\n",
              "       'tag_consumer_finance', 'tag_consumer_health_services',\n",
              "       'tag_data_engineering', 'tag_data_science', 'tag_data_visualization',\n",
              "       'tag_developer_tools', 'tag_diagnostics', 'tag_digital_health',\n",
              "       'tag_education', 'tag_emerging_markets', 'tag_enterprise',\n",
              "       'tag_enterprise_software', 'tag_femtech', 'tag_fintech',\n",
              "       'tag_generative_ai', 'tag_genomics', 'tag_health_tech',\n",
              "       'tag_healthcare', 'tag_healthcare_it', 'tag_india',\n",
              "       'tag_infrastructure', 'tag_machine_learning', 'tag_marketing',\n",
              "       'tag_marketplace', 'tag_media', 'tag_open_source', 'tag_operations',\n",
              "       'tag_payments', 'tag_remittances', 'tag_saas', 'tag_semiconductors',\n",
              "       'tag_sms', 'tag_social', 'tag_sustainability', 'tag_video',\n",
              "       'tag_women's_health'],\n",
              "      dtype='object')"
            ]
          },
          "metadata": {},
          "execution_count": 183
        }
      ],
      "source": [
        "df = pd.concat([df, df['tags'].str.get_dummies(sep='#').add_prefix('tag_')], axis = 1).drop(['tags'], axis=1)\n",
        "df.columns"
      ]
    },
    {
      "cell_type": "markdown",
      "metadata": {
        "id": "o4G9buQvlis_"
      },
      "source": [
        "### Move VIII to last column"
      ]
    },
    {
      "cell_type": "code",
      "execution_count": null,
      "metadata": {
        "colab": {
          "base_uri": "https://localhost:8080/"
        },
        "id": "a31VkkwllrCI",
        "outputId": "8e0bba58-bbca-4520-943c-d22628d7cabc"
      },
      "outputs": [
        {
          "output_type": "execute_result",
          "data": {
            "text/plain": [
              "Index(['societal_impact', 'societal_reach', 'time_to_impact', 'up_votes',\n",
              "       'tag_advertising', 'tag_agriculture', 'tag_ai', 'tag_ai_assistant',\n",
              "       'tag_aiops', 'tag_analytics', 'tag_artificial_intelligence',\n",
              "       'tag_automation', 'tag_b2b', 'tag_big_data', 'tag_biotech',\n",
              "       'tag_chatbot', 'tag_climate', 'tag_compliance', 'tag_computer_vision',\n",
              "       'tag_consumer', 'tag_consumer_finance', 'tag_consumer_health_services',\n",
              "       'tag_data_engineering', 'tag_data_science', 'tag_data_visualization',\n",
              "       'tag_developer_tools', 'tag_diagnostics', 'tag_digital_health',\n",
              "       'tag_education', 'tag_emerging_markets', 'tag_enterprise',\n",
              "       'tag_enterprise_software', 'tag_femtech', 'tag_fintech',\n",
              "       'tag_generative_ai', 'tag_genomics', 'tag_health_tech',\n",
              "       'tag_healthcare', 'tag_healthcare_it', 'tag_india',\n",
              "       'tag_infrastructure', 'tag_machine_learning', 'tag_marketing',\n",
              "       'tag_marketplace', 'tag_media', 'tag_open_source', 'tag_operations',\n",
              "       'tag_payments', 'tag_remittances', 'tag_saas', 'tag_semiconductors',\n",
              "       'tag_sms', 'tag_social', 'tag_sustainability', 'tag_video',\n",
              "       'tag_women's_health', 'viii'],\n",
              "      dtype='object')"
            ]
          },
          "metadata": {},
          "execution_count": 184
        }
      ],
      "source": [
        "new_cols = [col for col in df.columns if col != 'viii'] + ['viii']\n",
        "df = df[new_cols]\n",
        "df.columns"
      ]
    },
    {
      "cell_type": "markdown",
      "metadata": {
        "id": "hjWSjQFokxsm"
      },
      "source": [
        "## Data Exploration"
      ]
    },
    {
      "cell_type": "markdown",
      "source": [
        "### Lets examine the shape of the data distribution"
      ],
      "metadata": {
        "id": "uBfB0kltVETy"
      }
    },
    {
      "cell_type": "code",
      "source": [
        "def histVIII(col, desc):\n",
        "  fig, ax = plt.subplots(figsize=(10, 6))\n",
        "  ax.hist(df[col], bins=5)\n",
        "  ax.set(title=f'{desc}', xlabel=desc)\n",
        "  ax.set_xlim(1, 10)"
      ],
      "metadata": {
        "id": "tA3rFW6FTcHv"
      },
      "execution_count": null,
      "outputs": []
    },
    {
      "cell_type": "code",
      "source": [
        "histVIII('societal_impact', 'Societal Impact')"
      ],
      "metadata": {
        "colab": {
          "base_uri": "https://localhost:8080/",
          "height": 564
        },
        "id": "KDSmi8zpT7af",
        "outputId": "e1d93141-caa3-409a-d399-4524a3eba263"
      },
      "execution_count": null,
      "outputs": [
        {
          "output_type": "display_data",
          "data": {
            "text/plain": [
              "<Figure size 1000x600 with 1 Axes>"
            ],
            "image/png": "[encoded data removed]"
          },
          "metadata": {}
        }
      ]
    },
    {
      "cell_type": "code",
      "source": [
        "histVIII('societal_reach', 'Societal Reach')"
      ],
      "metadata": {
        "colab": {
          "base_uri": "https://localhost:8080/",
          "height": 564
        },
        "id": "OznVwOL3VjgC",
        "outputId": "1e753a69-6ade-474b-e0b2-ca2432c08cd0"
      },
      "execution_count": null,
      "outputs": [
        {
          "output_type": "display_data",
          "data": {
            "text/plain": [
              "<Figure size 1000x600 with 1 Axes>"
            ],
            "image/png": "[encoded data removed]"
          },
          "metadata": {}
        }
      ]
    },
    {
      "cell_type": "code",
      "source": [
        "histVIII('time_to_impact', 'Time to Impact')"
      ],
      "metadata": {
        "colab": {
          "base_uri": "https://localhost:8080/",
          "height": 564
        },
        "id": "tJaKncvJVkOG",
        "outputId": "394b1e7e-b66e-47ae-9d47-4957066e38c2"
      },
      "execution_count": null,
      "outputs": [
        {
          "output_type": "display_data",
          "data": {
            "text/plain": [
              "<Figure size 1000x600 with 1 Axes>"
            ],
            "image/png": "[encoded data removed]"
          },
          "metadata": {}
        }
      ]
    },
    {
      "cell_type": "code",
      "source": [
        "fig, ax = plt.subplots(figsize=(10, 6))\n",
        "ax.hist(df['up_votes'], bins=10)\n",
        "ax.set(title='Up Votes', xlabel='Up Votes')"
      ],
      "metadata": {
        "colab": {
          "base_uri": "https://localhost:8080/",
          "height": 582
        },
        "id": "CFAXCO1FVk6m",
        "outputId": "8a861e7c-6da7-4055-9fd3-82eb3ba773f2"
      },
      "execution_count": null,
      "outputs": [
        {
          "output_type": "execute_result",
          "data": {
            "text/plain": [
              "[Text(0.5, 1.0, 'Up Votes'), Text(0.5, 0, 'Up Votes')]"
            ]
          },
          "metadata": {},
          "execution_count": 189
        },
        {
          "output_type": "display_data",
          "data": {
            "text/plain": [
              "<Figure size 1000x600 with 1 Axes>"
            ],
            "image/png": "[encoded data removed]"
          },
          "metadata": {}
        }
      ]
    },
    {
      "cell_type": "markdown",
      "metadata": {
        "id": "V3qX5qFym01X"
      },
      "source": [
        "### How well does the continuous numerical columns correlate to the VIII?"
      ]
    },
    {
      "cell_type": "code",
      "execution_count": null,
      "metadata": {
        "colab": {
          "base_uri": "https://localhost:8080/",
          "height": 206
        },
        "id": "azUpe7eum3tK",
        "outputId": "4e0c3a47-725e-4b50-b52c-d1bfe0078278"
      },
      "outputs": [
        {
          "output_type": "execute_result",
          "data": {
            "text/plain": [
              "                 societal_impact  societal_reach  time_to_impact  up_votes  \\\n",
              "societal_impact         1.000000        0.711795       -0.020507  0.042264   \n",
              "societal_reach          0.711795        1.000000       -0.284758 -0.058066   \n",
              "time_to_impact         -0.020507       -0.284758        1.000000 -0.154529   \n",
              "up_votes                0.042264       -0.058066       -0.154529  1.000000   \n",
              "viii                    0.927325        0.775497        0.181378 -0.070160   \n",
              "\n",
              "                     viii  \n",
              "societal_impact  0.927325  \n",
              "societal_reach   0.775497  \n",
              "time_to_impact   0.181378  \n",
              "up_votes        -0.070160  \n",
              "viii             1.000000  "
            ],
            "text/html": [
              "\n",
              "  <div id=\"df-785b982e-e472-4030-a66d-a7d997f096d0\" class=\"colab-df-container\">\n",
              "    <div>\n",
              "<style scoped>\n",
              "    .dataframe tbody tr th:only-of-type {\n",
              "        vertical-align: middle;\n",
              "    }\n",
              "\n",
              "    .dataframe tbody tr th {\n",
              "        vertical-align: top;\n",
              "    }\n",
              "\n",
              "    .dataframe thead th {\n",
              "        text-align: right;\n",
              "    }\n",
              "</style>\n",
              "<table border=\"1\" class=\"dataframe\">\n",
              "  <thead>\n",
              "    <tr style=\"text-align: right;\">\n",
              "      <th></th>\n",
              "      <th>societal_impact</th>\n",
              "      <th>societal_reach</th>\n",
              "      <th>time_to_impact</th>\n",
              "      <th>up_votes</th>\n",
              "      <th>viii</th>\n",
              "    </tr>\n",
              "  </thead>\n",
              "  <tbody>\n",
              "    <tr>\n",
              "      <th>societal_impact</th>\n",
              "      <td>1.000000</td>\n",
              "      <td>0.711795</td>\n",
              "      <td>-0.020507</td>\n",
              "      <td>0.042264</td>\n",
              "      <td>0.927325</td>\n",
              "    </tr>\n",
              "    <tr>\n",
              "      <th>societal_reach</th>\n",
              "      <td>0.711795</td>\n",
              "      <td>1.000000</td>\n",
              "      <td>-0.284758</td>\n",
              "      <td>-0.058066</td>\n",
              "      <td>0.775497</td>\n",
              "    </tr>\n",
              "    <tr>\n",
              "      <th>time_to_impact</th>\n",
              "      <td>-0.020507</td>\n",
              "      <td>-0.284758</td>\n",
              "      <td>1.000000</td>\n",
              "      <td>-0.154529</td>\n",
              "      <td>0.181378</td>\n",
              "    </tr>\n",
              "    <tr>\n",
              "      <th>up_votes</th>\n",
              "      <td>0.042264</td>\n",
              "      <td>-0.058066</td>\n",
              "      <td>-0.154529</td>\n",
              "      <td>1.000000</td>\n",
              "      <td>-0.070160</td>\n",
              "    </tr>\n",
              "    <tr>\n",
              "      <th>viii</th>\n",
              "      <td>0.927325</td>\n",
              "      <td>0.775497</td>\n",
              "      <td>0.181378</td>\n",
              "      <td>-0.070160</td>\n",
              "      <td>1.000000</td>\n",
              "    </tr>\n",
              "  </tbody>\n",
              "</table>\n",
              "</div>\n",
              "    <div class=\"colab-df-buttons\">\n",
              "\n",
              "  <div class=\"colab-df-container\">\n",
              "    <button class=\"colab-df-convert\" onclick=\"convertToInteractive('df-785b982e-e472-4030-a66d-a7d997f096d0')\"\n",
              "            title=\"Convert this dataframe to an interactive table.\"\n",
              "            style=\"display:none;\">\n",
              "\n",
              "  <svg xmlns=\"http://www.w3.org/2000/svg\" height=\"24px\" viewBox=\"0 -960 960 960\">\n",
              "    <path d=\"M120-120v-720h720v720H120Zm60-500h600v-160H180v160Zm220 220h160v-160H400v160Zm0 220h160v-160H400v160ZM180-400h160v-160H180v160Zm440 0h160v-160H620v160ZM180-180h160v-160H180v160Zm440 0h160v-160H620v160Z\"/>\n",
              "  </svg>\n",
              "    </button>\n",
              "\n",
              "  <style>\n",
              "    .colab-df-container {\n",
              "      display:flex;\n",
              "      gap: 12px;\n",
              "    }\n",
              "\n",
              "    .colab-df-convert {\n",
              "      background-color: #E8F0FE;\n",
              "      border: none;\n",
              "      border-radius: 50%;\n",
              "      cursor: pointer;\n",
              "      display: none;\n",
              "      fill: #1967D2;\n",
              "      height: 32px;\n",
              "      padding: 0 0 0 0;\n",
              "      width: 32px;\n",
              "    }\n",
              "\n",
              "    .colab-df-convert:hover {\n",
              "      background-color: #E2EBFA;\n",
              "      box-shadow: 0px 1px 2px rgba(60, 64, 67, 0.3), 0px 1px 3px 1px rgba(60, 64, 67, 0.15);\n",
              "      fill: #174EA6;\n",
              "    }\n",
              "\n",
              "    .colab-df-buttons div {\n",
              "      margin-bottom: 4px;\n",
              "    }\n",
              "\n",
              "    [theme=dark] .colab-df-convert {\n",
              "      background-color: #3B4455;\n",
              "      fill: #D2E3FC;\n",
              "    }\n",
              "\n",
              "    [theme=dark] .colab-df-convert:hover {\n",
              "      background-color: #434B5C;\n",
              "      box-shadow: 0px 1px 3px 1px rgba(0, 0, 0, 0.15);\n",
              "      filter: drop-shadow(0px 1px 2px rgba(0, 0, 0, 0.3));\n",
              "      fill: #FFFFFF;\n",
              "    }\n",
              "  </style>\n",
              "\n",
              "    <script>\n",
              "      const buttonEl =\n",
              "        document.querySelector('#df-785b982e-e472-4030-a66d-a7d997f096d0 button.colab-df-convert');\n",
              "      buttonEl.style.display =\n",
              "        google.colab.kernel.accessAllowed ? 'block' : 'none';\n",
              "\n",
              "      async function convertToInteractive(key) {\n",
              "        const element = document.querySelector('#df-785b982e-e472-4030-a66d-a7d997f096d0');\n",
              "        const dataTable =\n",
              "          await google.colab.kernel.invokeFunction('convertToInteractive',\n",
              "                                                    [key], {});\n",
              "        if (!dataTable) return;\n",
              "\n",
              "        const docLinkHtml = 'Like what you see? Visit the ' +\n",
              "          '<a target=\"_blank\" href=https://colab.research.google.com/notebooks/data_table.ipynb>data table notebook</a>'\n",
              "          + ' to learn more about interactive tables.';\n",
              "        element.innerHTML = '';\n",
              "        dataTable['output_type'] = 'display_data';\n",
              "        await google.colab.output.renderOutput(dataTable, element);\n",
              "        const docLink = document.createElement('div');\n",
              "        docLink.innerHTML = docLinkHtml;\n",
              "        element.appendChild(docLink);\n",
              "      }\n",
              "    </script>\n",
              "  </div>\n",
              "\n",
              "\n",
              "<div id=\"df-47ea765a-5ffb-4041-a3ce-0f2e8f61ae9a\">\n",
              "  <button class=\"colab-df-quickchart\" onclick=\"quickchart('df-47ea765a-5ffb-4041-a3ce-0f2e8f61ae9a')\"\n",
              "            title=\"Suggest charts.\"\n",
              "            style=\"display:none;\">\n",
              "\n",
              "<svg xmlns=\"http://www.w3.org/2000/svg\" height=\"24px\"viewBox=\"0 0 24 24\"\n",
              "     width=\"24px\">\n",
              "    <g>\n",
              "        <path d=\"M19 3H5c-1.1 0-2 .9-2 2v14c0 1.1.9 2 2 2h14c1.1 0 2-.9 2-2V5c0-1.1-.9-2-2-2zM9 17H7v-7h2v7zm4 0h-2V7h2v10zm4 0h-2v-4h2v4z\"/>\n",
              "    </g>\n",
              "</svg>\n",
              "  </button>\n",
              "\n",
              "<style>\n",
              "  .colab-df-quickchart {\n",
              "    background-color: #E8F0FE;\n",
              "    border: none;\n",
              "    border-radius: 50%;\n",
              "    cursor: pointer;\n",
              "    display: none;\n",
              "    fill: #1967D2;\n",
              "    height: 32px;\n",
              "    padding: 0 0 0 0;\n",
              "    width: 32px;\n",
              "  }\n",
              "\n",
              "  .colab-df-quickchart:hover {\n",
              "    background-color: #E2EBFA;\n",
              "    box-shadow: 0px 1px 2px rgba(60, 64, 67, 0.3), 0px 1px 3px 1px rgba(60, 64, 67, 0.15);\n",
              "    fill: #174EA6;\n",
              "  }\n",
              "\n",
              "  [theme=dark] .colab-df-quickchart {\n",
              "    background-color: #3B4455;\n",
              "    fill: #D2E3FC;\n",
              "  }\n",
              "\n",
              "  [theme=dark] .colab-df-quickchart:hover {\n",
              "    background-color: #434B5C;\n",
              "    box-shadow: 0px 1px 3px 1px rgba(0, 0, 0, 0.15);\n",
              "    filter: drop-shadow(0px 1px 2px rgba(0, 0, 0, 0.3));\n",
              "    fill: #FFFFFF;\n",
              "  }\n",
              "</style>\n",
              "\n",
              "  <script>\n",
              "    async function quickchart(key) {\n",
              "      const charts = await google.colab.kernel.invokeFunction(\n",
              "          'suggestCharts', [key], {});\n",
              "    }\n",
              "    (() => {\n",
              "      let quickchartButtonEl =\n",
              "        document.querySelector('#df-47ea765a-5ffb-4041-a3ce-0f2e8f61ae9a button');\n",
              "      quickchartButtonEl.style.display =\n",
              "        google.colab.kernel.accessAllowed ? 'block' : 'none';\n",
              "    })();\n",
              "  </script>\n",
              "</div>\n",
              "    </div>\n",
              "  </div>\n"
            ]
          },
          "metadata": {},
          "execution_count": 190
        }
      ],
      "source": [
        "# The integers are societal_impact, societal_reach, time_to_impact, up_votes and viii (tags are really categorical)\n",
        "cont_cols = ['societal_impact', 'societal_reach', 'time_to_impact', 'up_votes', 'viii']\n",
        "cont_df = df[cont_cols]\n",
        "cont_df.corr()"
      ]
    },
    {
      "cell_type": "markdown",
      "source": [
        "The feature with the strongest correlation to viii is 'societal_impact' at 93%, followed by 'societal_reach' at 78% followed by 'time_to_impact' at 18% and finally followed by 'up_votes' at -7%."
      ],
      "metadata": {
        "id": "xAS0BzQLRoIS"
      }
    },
    {
      "cell_type": "markdown",
      "source": [
        "### Lets plot each of these columns in relation to the VIII"
      ],
      "metadata": {
        "id": "DSDVNudkNUxR"
      }
    },
    {
      "cell_type": "code",
      "source": [
        "# Create a function to save time\n",
        "def plotVIII(col, desc):\n",
        "  fig, ax = plt.subplots(figsize=(12, 8))\n",
        "  ax.scatter(df[col], df['viii'])\n",
        "  ax.grid()\n",
        "  ax.set(title=f'{desc} vs VIII (R^2 = {np.corrcoef(df[col], df[\"viii\"])[0, 1]**2:.3})', xlabel=desc, ylabel='VIII')"
      ],
      "metadata": {
        "id": "Yu9S4zF6NktK"
      },
      "execution_count": null,
      "outputs": []
    },
    {
      "cell_type": "code",
      "execution_count": null,
      "metadata": {
        "id": "YuSkLhQkJKVU",
        "colab": {
          "base_uri": "https://localhost:8080/",
          "height": 718
        },
        "outputId": "2b6da884-8606-45f3-e076-c707d4aee4ac"
      },
      "outputs": [
        {
          "output_type": "display_data",
          "data": {
            "text/plain": [
              "<Figure size 1200x800 with 1 Axes>"
            ],
            "image/png": "[encoded data removed]"
          },
          "metadata": {}
        }
      ],
      "source": [
        "plotVIII('societal_impact', 'Societal Impact')"
      ]
    },
    {
      "cell_type": "markdown",
      "source": [
        "The above plot suggests a strong positive correlation between societal impact and viii"
      ],
      "metadata": {
        "id": "e6NwyOiSBkaa"
      }
    },
    {
      "cell_type": "code",
      "source": [
        "# Compute the correlation coefficient between societal_impact to viii\n",
        "np.corrcoef(cont_df['societal_impact'], cont_df['viii'])[0,1]**2"
      ],
      "metadata": {
        "colab": {
          "base_uri": "https://localhost:8080/"
        },
        "id": "pQFdcErACTaP",
        "outputId": "52347756-5c52-4825-eaad-d349260cade1"
      },
      "execution_count": null,
      "outputs": [
        {
          "output_type": "execute_result",
          "data": {
            "text/plain": [
              "0.8599311360121324"
            ]
          },
          "metadata": {},
          "execution_count": 193
        }
      ]
    },
    {
      "cell_type": "markdown",
      "source": [
        "The correlation between societal_impact and viii is 0.8599 so aproximentally 86% of the variation in the viii is determined by the societal_impact."
      ],
      "metadata": {
        "id": "BchQbBHMCvLc"
      }
    },
    {
      "cell_type": "code",
      "source": [
        "plotVIII('societal_reach', 'Societal Reach')"
      ],
      "metadata": {
        "colab": {
          "base_uri": "https://localhost:8080/",
          "height": 718
        },
        "id": "bB9GWc5XOLv4",
        "outputId": "6816d8ad-95ea-4e52-bcda-a1920fe778ac"
      },
      "execution_count": null,
      "outputs": [
        {
          "output_type": "display_data",
          "data": {
            "text/plain": [
              "<Figure size 1200x800 with 1 Axes>"
            ],
            "image/png": "[encoded data removed]"
          },
          "metadata": {}
        }
      ]
    },
    {
      "cell_type": "markdown",
      "source": [
        "The above plot suggests a positive correlation between societal reach and viii"
      ],
      "metadata": {
        "id": "mXq5BZr9_21s"
      }
    },
    {
      "cell_type": "code",
      "source": [
        "# Compute the correlation coefficient between societal_reach to viii\n",
        "np.corrcoef(cont_df['societal_reach'], cont_df['viii'])[0,1]**2"
      ],
      "metadata": {
        "colab": {
          "base_uri": "https://localhost:8080/"
        },
        "id": "3cUUTn6vrdFP",
        "outputId": "237f06a5-b04b-4d7c-a931-ef8a42e1a647"
      },
      "execution_count": null,
      "outputs": [
        {
          "output_type": "execute_result",
          "data": {
            "text/plain": [
              "0.6013959037275913"
            ]
          },
          "metadata": {},
          "execution_count": 195
        }
      ]
    },
    {
      "cell_type": "markdown",
      "source": [
        "The correlation between societal reach and viii is 0.6014 so aproximentally 60% of the variation in the viii is determined by the societal reach."
      ],
      "metadata": {
        "id": "0Y7wRH0Gre-x"
      }
    },
    {
      "cell_type": "code",
      "source": [
        "plotVIII('time_to_impact', 'Time to Impact')"
      ],
      "metadata": {
        "colab": {
          "base_uri": "https://localhost:8080/",
          "height": 718
        },
        "id": "eDJr75IkOTAk",
        "outputId": "b8602623-1bdb-4393-c9f5-80e1393c6ecf"
      },
      "execution_count": null,
      "outputs": [
        {
          "output_type": "display_data",
          "data": {
            "text/plain": [
              "<Figure size 1200x800 with 1 Axes>"
            ],
            "image/png": "[encoded data removed]"
          },
          "metadata": {}
        }
      ]
    },
    {
      "cell_type": "markdown",
      "source": [
        "The above plot suggests a weak positive correlation between time to impact and viii"
      ],
      "metadata": {
        "id": "geMoo-GD_5jS"
      }
    },
    {
      "cell_type": "code",
      "source": [
        "# Compute the correlation coefficient between time_to_impact to viii\n",
        "np.corrcoef(cont_df['time_to_impact'], cont_df['viii'])[0,1]**2"
      ],
      "metadata": {
        "colab": {
          "base_uri": "https://localhost:8080/"
        },
        "id": "10uQwmlttQK6",
        "outputId": "e600d109-4c42-450e-cac2-fe2dae22f540"
      },
      "execution_count": null,
      "outputs": [
        {
          "output_type": "execute_result",
          "data": {
            "text/plain": [
              "0.03289815060705503"
            ]
          },
          "metadata": {},
          "execution_count": 197
        }
      ]
    },
    {
      "cell_type": "markdown",
      "source": [
        "The correlation between time to impact and viii is 0.0328 so aproximentally 3% of the variation in the viii is determined by the time to impact."
      ],
      "metadata": {
        "id": "6gX2ZpATtb0i"
      }
    },
    {
      "cell_type": "code",
      "source": [
        "plotVIII('up_votes', 'Up Votes')"
      ],
      "metadata": {
        "colab": {
          "base_uri": "https://localhost:8080/",
          "height": 718
        },
        "id": "nH8OoZNcOY3b",
        "outputId": "9af7fb61-483e-4058-cf2b-68b8ddb917c7"
      },
      "execution_count": null,
      "outputs": [
        {
          "output_type": "display_data",
          "data": {
            "text/plain": [
              "<Figure size 1200x800 with 1 Axes>"
            ],
            "image/png": "[encoded data removed]"
          },
          "metadata": {}
        }
      ]
    },
    {
      "cell_type": "markdown",
      "source": [
        "The above plot suggests no significant correlation between up votes and viii"
      ],
      "metadata": {
        "id": "rJU24rGOtuRY"
      }
    },
    {
      "cell_type": "code",
      "source": [
        "# Compute the correlation coefficient between time_to_impact to viii\n",
        "np.corrcoef(cont_df['up_votes'], cont_df['viii'])[0,1]**2"
      ],
      "metadata": {
        "colab": {
          "base_uri": "https://localhost:8080/"
        },
        "id": "aEAQvUIEt0Vv",
        "outputId": "2ec5b950-ebda-4fa1-c1ad-b49399173138"
      },
      "execution_count": null,
      "outputs": [
        {
          "output_type": "execute_result",
          "data": {
            "text/plain": [
              "0.004922418607736081"
            ]
          },
          "metadata": {},
          "execution_count": 199
        }
      ]
    },
    {
      "cell_type": "markdown",
      "source": [
        "The correlation between time to impact and viii is 0.0049 so less than 1% of the variation in the viii is determined by the up votes."
      ],
      "metadata": {
        "id": "PTxmqlLut4bP"
      }
    },
    {
      "cell_type": "code",
      "execution_count": null,
      "metadata": {
        "colab": {
          "base_uri": "https://localhost:8080/"
        },
        "id": "igkjvm3fFj7X",
        "outputId": "7edfb7d4-1b17-49bb-f255-2f2f94ceac4d"
      },
      "outputs": [
        {
          "output_type": "stream",
          "name": "stdout",
          "text": [
            "societal_impact R^2 = 0.86\n",
            "societal_reach R^2 = 0.601\n",
            "time_to_impact R^2 = 0.0329\n",
            "up_votes R^2 = 0.00492\n"
          ]
        }
      ],
      "source": [
        "# Display R2 scores in one place to summarize\n",
        "for col in cont_cols:\n",
        "  if (col != 'viii'):\n",
        "    r2 = np.corrcoef(cont_df[col], cont_df[\"viii\"])[0, 1]**2\n",
        "    print(f'{col} R^2 = {r2:.3}')"
      ]
    },
    {
      "cell_type": "markdown",
      "metadata": {
        "id": "zra_TYjgIE0m"
      },
      "source": [
        "In summmary, Societal Impact has the strongest correlation to VIII of 86%, followed by the Societal Reach at 60%, followed by Time to Impact at 3% and finally Up Votes at <1%"
      ]
    },
    {
      "cell_type": "markdown",
      "metadata": {
        "id": "4X8L_92Npew0"
      },
      "source": [
        "### Examining Tag Popularity"
      ]
    },
    {
      "cell_type": "code",
      "execution_count": null,
      "metadata": {
        "id": "7Xd0rwqE1LiN"
      },
      "outputs": [],
      "source": [
        "# Get tag columns\n",
        "tag_cols = [col for col in df.columns if col.startswith('tag_')]\n",
        "tag_df = df[tag_cols]\n",
        "\n",
        "tags = {}\n",
        "for col in tag_df.columns:\n",
        "  tags[col.replace('tag_', '')] = df[col].sum()\n",
        "\n",
        "tag_df = pd.DataFrame(tags.items(), columns=['Tag', 'Total']).sort_values(by='Total', ascending=False)"
      ]
    },
    {
      "cell_type": "code",
      "execution_count": null,
      "metadata": {
        "colab": {
          "base_uri": "https://localhost:8080/",
          "height": 1000
        },
        "id": "HQWJ6j0e5XSW",
        "outputId": "540f9133-f66d-44c6-ff09-54bdc227c430"
      },
      "outputs": [
        {
          "output_type": "execute_result",
          "data": {
            "text/plain": [
              "([0,\n",
              "  1,\n",
              "  2,\n",
              "  3,\n",
              "  4,\n",
              "  5,\n",
              "  6,\n",
              "  7,\n",
              "  8,\n",
              "  9,\n",
              "  10,\n",
              "  11,\n",
              "  12,\n",
              "  13,\n",
              "  14,\n",
              "  15,\n",
              "  16,\n",
              "  17,\n",
              "  18,\n",
              "  19,\n",
              "  20,\n",
              "  21,\n",
              "  22,\n",
              "  23,\n",
              "  24,\n",
              "  25,\n",
              "  26,\n",
              "  27,\n",
              "  28,\n",
              "  29,\n",
              "  30,\n",
              "  31,\n",
              "  32,\n",
              "  33,\n",
              "  34,\n",
              "  35,\n",
              "  36,\n",
              "  37,\n",
              "  38,\n",
              "  39,\n",
              "  40,\n",
              "  41,\n",
              "  42,\n",
              "  43,\n",
              "  44,\n",
              "  45,\n",
              "  46,\n",
              "  47,\n",
              "  48,\n",
              "  49,\n",
              "  50,\n",
              "  51],\n",
              " [Text(0, 0, 'ai'),\n",
              "  Text(1, 0, 'b2b'),\n",
              "  Text(2, 0, 'artificial_intelligence'),\n",
              "  Text(3, 0, 'healthcare'),\n",
              "  Text(4, 0, 'fintech'),\n",
              "  Text(5, 0, 'developer_tools'),\n",
              "  Text(6, 0, 'generative_ai'),\n",
              "  Text(7, 0, 'saas'),\n",
              "  Text(8, 0, 'aiops'),\n",
              "  Text(9, 0, 'consumer'),\n",
              "  Text(10, 0, 'computer_vision'),\n",
              "  Text(11, 0, 'data_science'),\n",
              "  Text(12, 0, 'consumer_health_services'),\n",
              "  Text(13, 0, 'payments'),\n",
              "  Text(14, 0, 'ai_assistant'),\n",
              "  Text(15, 0, 'video'),\n",
              "  Text(16, 0, 'remittances'),\n",
              "  Text(17, 0, 'semiconductors'),\n",
              "  Text(18, 0, 'healthcare_it'),\n",
              "  Text(19, 0, 'india'),\n",
              "  Text(20, 0, 'infrastructure'),\n",
              "  Text(21, 0, 'machine_learning'),\n",
              "  Text(22, 0, 'marketing'),\n",
              "  Text(23, 0, 'marketplace'),\n",
              "  Text(24, 0, 'media'),\n",
              "  Text(25, 0, 'sustainability'),\n",
              "  Text(26, 0, 'open_source'),\n",
              "  Text(27, 0, 'social'),\n",
              "  Text(28, 0, 'operations'),\n",
              "  Text(29, 0, 'sms'),\n",
              "  Text(30, 0, 'health_tech'),\n",
              "  Text(31, 0, 'advertising'),\n",
              "  Text(32, 0, 'enterprise'),\n",
              "  Text(33, 0, 'genomics'),\n",
              "  Text(34, 0, 'consumer_finance'),\n",
              "  Text(35, 0, 'analytics'),\n",
              "  Text(36, 0, 'automation'),\n",
              "  Text(37, 0, 'big_data'),\n",
              "  Text(38, 0, 'biotech'),\n",
              "  Text(39, 0, 'chatbot'),\n",
              "  Text(40, 0, 'climate'),\n",
              "  Text(41, 0, 'compliance'),\n",
              "  Text(42, 0, 'data_engineering'),\n",
              "  Text(43, 0, 'femtech'),\n",
              "  Text(44, 0, 'data_visualization'),\n",
              "  Text(45, 0, 'diagnostics'),\n",
              "  Text(46, 0, 'digital_health'),\n",
              "  Text(47, 0, 'education'),\n",
              "  Text(48, 0, 'emerging_markets'),\n",
              "  Text(49, 0, 'agriculture'),\n",
              "  Text(50, 0, 'enterprise_software'),\n",
              "  Text(51, 0, \"women's_health\")])"
            ]
          },
          "metadata": {},
          "execution_count": 202
        },
        {
          "output_type": "display_data",
          "data": {
            "text/plain": [
              "<Figure size 1600x800 with 1 Axes>"
            ],
            "image/png": "[encoded data removed]"
          },
          "metadata": {}
        }
      ],
      "source": [
        "# Make a bar plot comparing the most popular tags\n",
        "fig, ax = plt.subplots(figsize=(16, 8))\n",
        "ax.bar(tag_df['Tag'], tag_df['Total'])\n",
        "ax.set(xlabel='Tags', ylabel='Startups', title='Tags Popularity' )\n",
        "plt.xticks(rotation=90)"
      ]
    },
    {
      "cell_type": "markdown",
      "source": [
        "As we can see ai is by far the most popular tag, which makes sense given this is 2023.  ai is already repeated within some of the other tags like \"generative_ai\"."
      ],
      "metadata": {
        "id": "KuUV-ILoubJ1"
      }
    },
    {
      "cell_type": "markdown",
      "metadata": {
        "id": "WemVnqgeA70k"
      },
      "source": [
        "## Splitting the dataset into the Training set and Test set"
      ]
    },
    {
      "cell_type": "code",
      "execution_count": null,
      "metadata": {
        "id": "ypT_WVTL1odF"
      },
      "outputs": [],
      "source": [
        "X = df.iloc[:, :-1].values\n",
        "y = df.iloc[:, -1].values"
      ]
    },
    {
      "cell_type": "code",
      "execution_count": null,
      "metadata": {
        "id": "gZonQHOvpMUb"
      },
      "outputs": [],
      "source": [
        "from sklearn.model_selection import train_test_split\n",
        "X_train, X_test, y_train, y_test = train_test_split(X, y, test_size = 0.2, random_state = 0)"
      ]
    },
    {
      "cell_type": "markdown",
      "metadata": {
        "id": "k-McZVsQBINc"
      },
      "source": [
        "## Training the Multiple Linear Regression model on the Training set"
      ]
    },
    {
      "cell_type": "code",
      "execution_count": null,
      "metadata": {
        "colab": {
          "base_uri": "https://localhost:8080/",
          "height": 75
        },
        "id": "NapuBWxjpszs",
        "outputId": "aba0a222-5c1b-454b-a10b-9253df48eafa"
      },
      "outputs": [
        {
          "output_type": "execute_result",
          "data": {
            "text/plain": [
              "LinearRegression()"
            ],
            "text/html": [
              "<style>#sk-container-id-5 {color: black;background-color: white;}#sk-container-id-5 pre{padding: 0;}#sk-container-id-5 div.sk-toggleable {background-color: white;}#sk-container-id-5 label.sk-toggleable__label {cursor: pointer;display: block;width: 100%;margin-bottom: 0;padding: 0.3em;box-sizing: border-box;text-align: center;}#sk-container-id-5 label.sk-toggleable__label-arrow:before {content: \"▸\";float: left;margin-right: 0.25em;color: #696969;}#sk-container-id-5 label.sk-toggleable__label-arrow:hover:before {color: black;}#sk-container-id-5 div.sk-estimator:hover label.sk-toggleable__label-arrow:before {color: black;}#sk-container-id-5 div.sk-toggleable__content {max-height: 0;max-width: 0;overflow: hidden;text-align: left;background-color: #f0f8ff;}#sk-container-id-5 div.sk-toggleable__content pre {margin: 0.2em;color: black;border-radius: 0.25em;background-color: #f0f8ff;}#sk-container-id-5 input.sk-toggleable__control:checked~div.sk-toggleable__content {max-height: 200px;max-width: 100%;overflow: auto;}#sk-container-id-5 input.sk-toggleable__control:checked~label.sk-toggleable__label-arrow:before {content: \"▾\";}#sk-container-id-5 div.sk-estimator input.sk-toggleable__control:checked~label.sk-toggleable__label {background-color: #d4ebff;}#sk-container-id-5 div.sk-label input.sk-toggleable__control:checked~label.sk-toggleable__label {background-color: #d4ebff;}#sk-container-id-5 input.sk-hidden--visually {border: 0;clip: rect(1px 1px 1px 1px);clip: rect(1px, 1px, 1px, 1px);height: 1px;margin: -1px;overflow: hidden;padding: 0;position: absolute;width: 1px;}#sk-container-id-5 div.sk-estimator {font-family: monospace;background-color: #f0f8ff;border: 1px dotted black;border-radius: 0.25em;box-sizing: border-box;margin-bottom: 0.5em;}#sk-container-id-5 div.sk-estimator:hover {background-color: #d4ebff;}#sk-container-id-5 div.sk-parallel-item::after {content: \"\";width: 100%;border-bottom: 1px solid gray;flex-grow: 1;}#sk-container-id-5 div.sk-label:hover label.sk-toggleable__label {background-color: #d4ebff;}#sk-container-id-5 div.sk-serial::before {content: \"\";position: absolute;border-left: 1px solid gray;box-sizing: border-box;top: 0;bottom: 0;left: 50%;z-index: 0;}#sk-container-id-5 div.sk-serial {display: flex;flex-direction: column;align-items: center;background-color: white;padding-right: 0.2em;padding-left: 0.2em;position: relative;}#sk-container-id-5 div.sk-item {position: relative;z-index: 1;}#sk-container-id-5 div.sk-parallel {display: flex;align-items: stretch;justify-content: center;background-color: white;position: relative;}#sk-container-id-5 div.sk-item::before, #sk-container-id-5 div.sk-parallel-item::before {content: \"\";position: absolute;border-left: 1px solid gray;box-sizing: border-box;top: 0;bottom: 0;left: 50%;z-index: -1;}#sk-container-id-5 div.sk-parallel-item {display: flex;flex-direction: column;z-index: 1;position: relative;background-color: white;}#sk-container-id-5 div.sk-parallel-item:first-child::after {align-self: flex-end;width: 50%;}#sk-container-id-5 div.sk-parallel-item:last-child::after {align-self: flex-start;width: 50%;}#sk-container-id-5 div.sk-parallel-item:only-child::after {width: 0;}#sk-container-id-5 div.sk-dashed-wrapped {border: 1px dashed gray;margin: 0 0.4em 0.5em 0.4em;box-sizing: border-box;padding-bottom: 0.4em;background-color: white;}#sk-container-id-5 div.sk-label label {font-family: monospace;font-weight: bold;display: inline-block;line-height: 1.2em;}#sk-container-id-5 div.sk-label-container {text-align: center;}#sk-container-id-5 div.sk-container {/* jupyter's `normalize.less` sets `[hidden] { display: none; }` but bootstrap.min.css set `[hidden] { display: none !important; }` so we also need the `!important` here to be able to override the default hidden behavior on the sphinx rendered scikit-learn.org. See: https://github.com/scikit-learn/scikit-learn/issues/21755 */display: inline-block !important;position: relative;}#sk-container-id-5 div.sk-text-repr-fallback {display: none;}</style><div id=\"sk-container-id-5\" class=\"sk-top-container\"><div class=\"sk-text-repr-fallback\"><pre>LinearRegression()</pre><b>In a Jupyter environment, please rerun this cell to show the HTML representation or trust the notebook. <br />On GitHub, the HTML representation is unable to render, please try loading this page with nbviewer.org.</b></div><div class=\"sk-container\" hidden><div class=\"sk-item\"><div class=\"sk-estimator sk-toggleable\"><input class=\"sk-toggleable__control sk-hidden--visually\" id=\"sk-estimator-id-5\" type=\"checkbox\" checked><label for=\"sk-estimator-id-5\" class=\"sk-toggleable__label sk-toggleable__label-arrow\">LinearRegression</label><div class=\"sk-toggleable__content\"><pre>LinearRegression()</pre></div></div></div></div></div>"
            ]
          },
          "metadata": {},
          "execution_count": 205
        }
      ],
      "source": [
        "from sklearn.linear_model import LinearRegression\n",
        "lr = LinearRegression()\n",
        "lr.fit(X_train, y_train)"
      ]
    },
    {
      "cell_type": "markdown",
      "metadata": {
        "id": "xNkXL1YQBiBT"
      },
      "source": [
        "## Predicting the Test set results"
      ]
    },
    {
      "cell_type": "markdown",
      "source": [
        "Lets predict the test results and print the actual values next to the predictions to see how close they look"
      ],
      "metadata": {
        "id": "v9an0j5ffqrP"
      }
    },
    {
      "cell_type": "code",
      "execution_count": null,
      "metadata": {
        "id": "4WCgXPGEr0eD",
        "colab": {
          "base_uri": "https://localhost:8080/"
        },
        "outputId": "ea9efb04-75a7-4a42-ac44-6aeb8448390b"
      },
      "outputs": [
        {
          "output_type": "stream",
          "name": "stdout",
          "text": [
            "[[131.49 125.  ]\n",
            " [204.18 175.  ]\n",
            " [144.   105.  ]\n",
            " [402.22 320.  ]\n",
            " [367.76 315.  ]]\n"
          ]
        }
      ],
      "source": [
        "y_pred = lr.predict(X_test)\n",
        "np.set_printoptions(precision=2) # limit 2 decimal places\n",
        "print(np.concatenate((y_pred.reshape(len(y_pred), 1), y_test.reshape(len(y_test), 1)), 1))"
      ]
    },
    {
      "cell_type": "markdown",
      "source": [
        "They don't look that close, but lets plot them and compare"
      ],
      "metadata": {
        "id": "AZsRie8qfDrm"
      }
    },
    {
      "cell_type": "code",
      "source": [
        "fig, ax = plt.subplots(figsize=(12, 8))\n",
        "ax.scatter(y_test, y_pred)\n",
        "ax.grid()\n",
        "ax.set(title='Actual vs predicted using linear regression', xlabel='Actual VIII', ylabel='Predicted VII')\n",
        "ax.set_xlim(1, 400)\n",
        "ax.set_ylim(1, 400)"
      ],
      "metadata": {
        "colab": {
          "base_uri": "https://localhost:8080/",
          "height": 736
        },
        "id": "UYsYv5DmlrSD",
        "outputId": "0108589c-95c7-40b0-8b12-c03459697cf7"
      },
      "execution_count": null,
      "outputs": [
        {
          "output_type": "execute_result",
          "data": {
            "text/plain": [
              "(1.0, 400.0)"
            ]
          },
          "metadata": {},
          "execution_count": 207
        },
        {
          "output_type": "display_data",
          "data": {
            "text/plain": [
              "<Figure size 1200x800 with 1 Axes>"
            ],
            "image/png": "[encoded data removed]"
          },
          "metadata": {}
        }
      ]
    },
    {
      "cell_type": "markdown",
      "source": [
        "Not particularly accurate looking.  Lets evaluate the model performance and see how we can improve accuracy."
      ],
      "metadata": {
        "id": "lIL4OESnMtM_"
      }
    },
    {
      "cell_type": "markdown",
      "source": [
        "## Evaluating the Model Performance"
      ],
      "metadata": {
        "id": "y_QAMOHE6ath"
      }
    },
    {
      "cell_type": "markdown",
      "source": [
        "Initially lets evaluate the model performance using all the features available to us."
      ],
      "metadata": {
        "id": "QaaZR6YgJXy4"
      }
    },
    {
      "cell_type": "code",
      "source": [
        "# Let's calculate the R^2\n",
        "lr.score(X_test, y_test)"
      ],
      "metadata": {
        "colab": {
          "base_uri": "https://localhost:8080/"
        },
        "id": "EFNStzQi6gp0",
        "outputId": "417c079b-8707-4377-ec33-da5da65adda1"
      },
      "execution_count": null,
      "outputs": [
        {
          "output_type": "execute_result",
          "data": {
            "text/plain": [
              "0.719156084893374"
            ]
          },
          "metadata": {},
          "execution_count": 208
        }
      ]
    },
    {
      "cell_type": "markdown",
      "source": [
        "The model performs poorly at 72% when all the features are included.  Lets try removing the categorical variables and see if that helps the model accuracy."
      ],
      "metadata": {
        "id": "Y_yU1oYSJigF"
      }
    },
    {
      "cell_type": "code",
      "source": [
        "# Setting everything up again excluding the categorical varibles\n",
        "X = df.loc[:, ['societal_impact', 'societal_reach', 'time_to_impact', 'up_votes']].values\n",
        "y = df.iloc[:, -1].values\n",
        "from sklearn.model_selection import train_test_split\n",
        "X_train, X_test, y_train, y_test = train_test_split(X, y, test_size = 0.2, random_state = 0)\n",
        "lr = LinearRegression()\n",
        "lr.fit(X_train, y_train)\n",
        "y_pred = lr.predict(X_test)\n",
        "\n",
        "# Let's calculate the R^2\n",
        "lr.score(X_test, y_test)"
      ],
      "metadata": {
        "colab": {
          "base_uri": "https://localhost:8080/"
        },
        "id": "-T2v2Yf-jXoI",
        "outputId": "ba3b090b-811c-4008-ae1f-d5e3b72034ca"
      },
      "execution_count": null,
      "outputs": [
        {
          "output_type": "execute_result",
          "data": {
            "text/plain": [
              "0.9108738203259484"
            ]
          },
          "metadata": {},
          "execution_count": 209
        }
      ]
    },
    {
      "cell_type": "markdown",
      "source": [
        "This time we get a strong R^2 score of 91%.  Lets try removing the up votes feature and see how that affects the model accuracy."
      ],
      "metadata": {
        "id": "fT2H3buyi_Xq"
      }
    },
    {
      "cell_type": "code",
      "source": [
        "# Setting everything up again including the categorical varibles\n",
        "X = df.loc[:, ['societal_impact', 'societal_reach', 'time_to_impact']].values\n",
        "y = df.iloc[:, -1].values\n",
        "from sklearn.model_selection import train_test_split\n",
        "X_train, X_test, y_train, y_test = train_test_split(X, y, test_size = 0.2, random_state = 0)\n",
        "lr = LinearRegression()\n",
        "lr.fit(X_train, y_train)\n",
        "y_pred = lr.predict(X_test)\n",
        "\n",
        "# Let's calculate the R^2\n",
        "lr.score(X_test, y_test)"
      ],
      "metadata": {
        "colab": {
          "base_uri": "https://localhost:8080/"
        },
        "id": "fIn3HXa6HyiJ",
        "outputId": "ff1ba234-279a-408e-8e15-ca242757ca9f"
      },
      "execution_count": null,
      "outputs": [
        {
          "output_type": "execute_result",
          "data": {
            "text/plain": [
              "0.9209181808074973"
            ]
          },
          "metadata": {},
          "execution_count": 210
        }
      ]
    },
    {
      "cell_type": "markdown",
      "source": [
        "We get a slightly stronger R^2 score of 92% with just the continuous variables 'societal_impact', 'societal_reach', 'time_to_impact'."
      ],
      "metadata": {
        "id": "EIb7G4F4IxQB"
      }
    },
    {
      "cell_type": "markdown",
      "source": [
        "Lets plot the actual vs predicted values again now that our model is more accurate."
      ],
      "metadata": {
        "id": "PLV5GmP9LlTi"
      }
    },
    {
      "cell_type": "code",
      "source": [
        "fig, ax = plt.subplots(figsize=(12, 8))\n",
        "ax.scatter(y_test, y_pred)\n",
        "ax.grid()\n",
        "ax.set(title='Actual vs predicted using linear regression', xlabel='Actual VIII', ylabel='Predicted VII')\n",
        "ax.set_xlim(1, 400)\n",
        "ax.set_ylim(1, 400)"
      ],
      "metadata": {
        "colab": {
          "base_uri": "https://localhost:8080/",
          "height": 736
        },
        "id": "CZHvw6n7Lnrm",
        "outputId": "9c1c60ab-d91c-46e7-b8f3-118673ac22b7"
      },
      "execution_count": null,
      "outputs": [
        {
          "output_type": "execute_result",
          "data": {
            "text/plain": [
              "(1.0, 400.0)"
            ]
          },
          "metadata": {},
          "execution_count": 211
        },
        {
          "output_type": "display_data",
          "data": {
            "text/plain": [
              "<Figure size 1200x800 with 1 Axes>"
            ],
            "image/png": "[encoded data removed]"
          },
          "metadata": {}
        }
      ]
    },
    {
      "cell_type": "markdown",
      "source": [
        "## Finding the equation"
      ],
      "metadata": {
        "id": "A8o9Q4-nyYAl"
      }
    },
    {
      "cell_type": "code",
      "source": [
        "lr.coef_"
      ],
      "metadata": {
        "colab": {
          "base_uri": "https://localhost:8080/"
        },
        "id": "ZD5qHb5Mv799",
        "outputId": "b4f9177e-86a2-4e01-cc25-ec449e2fc66e"
      },
      "execution_count": null,
      "outputs": [
        {
          "output_type": "execute_result",
          "data": {
            "text/plain": [
              "array([36.68, 32.4 , 33.65])"
            ]
          },
          "metadata": {},
          "execution_count": 212
        }
      ]
    },
    {
      "cell_type": "markdown",
      "source": [
        "The slope for the first variable (societal impact) is 37.35, for the second variable (societal_reach) the coefficient is 31.37 and for the third variable (time_to_impact) the coefficient is 32.64. We'll return to these in a second, but first let's look at the y-intercept."
      ],
      "metadata": {
        "id": "MGlA7DqRyUrZ"
      }
    },
    {
      "cell_type": "code",
      "source": [
        "lr.intercept_"
      ],
      "metadata": {
        "colab": {
          "base_uri": "https://localhost:8080/"
        },
        "id": "1s-R8EWhxcdg",
        "outputId": "17ebcb84-b20c-46d1-9566-ddc4b51e38f4"
      },
      "execution_count": null,
      "outputs": [
        {
          "output_type": "execute_result",
          "data": {
            "text/plain": [
              "-376.9867040882006"
            ]
          },
          "metadata": {},
          "execution_count": 213
        }
      ]
    },
    {
      "cell_type": "markdown",
      "source": [
        "So that means the line has the following formula:"
      ],
      "metadata": {
        "id": "_fzjxA2mxgMa"
      }
    },
    {
      "cell_type": "code",
      "source": [
        "print(f'viii = {lr.coef_[0]:.2f} x societal_impact + {lr.coef_[1]:.2f} x societal_reach + {lr.coef_[2]:.2f} x time_to_impact')"
      ],
      "metadata": {
        "colab": {
          "base_uri": "https://localhost:8080/"
        },
        "id": "I64uyIrJxij9",
        "outputId": "91dc2f33-02eb-4cd4-9ac0-98946a933678"
      },
      "execution_count": null,
      "outputs": [
        {
          "output_type": "stream",
          "name": "stdout",
          "text": [
            "viii = 36.68 x societal_impact + 32.40 x societal_reach + 33.65 x time_to_impact\n"
          ]
        }
      ]
    },
    {
      "cell_type": "markdown",
      "source": [
        "This makes perfect sense as we know the actual formula used to calculate the viii is VIII = societal impact x societal reach x time to impact.\n",
        "\n",
        "In summary, we were able to predict the formula for calculating the VIII with approximately 92% accuracy using a linear regression model trained on the 25 records provided in the data set.  Additional data should only help improve the models accuracy."
      ],
      "metadata": {
        "id": "VN8eGdqOLFvu"
      }
    }
  ],
  "metadata": {
    "colab": {
      "provenance": [],
      "include_colab_link": true
    },
    "kernelspec": {
      "display_name": "Python 3",
      "name": "python3"
    }
  },
  "nbformat": 4,
  "nbformat_minor": 0
}